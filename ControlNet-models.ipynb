{
 "cells": [
  {
   "cell_type": "code",
   "execution_count": 4,
   "id": "71206f8b-068f-4ff0-984c-231f9a67f873",
   "metadata": {
    "execution": {
     "iopub.execute_input": "2023-08-07T09:45:20.319088Z",
     "iopub.status.busy": "2023-08-07T09:45:20.318511Z",
     "iopub.status.idle": "2023-08-07T09:45:28.848435Z",
     "shell.execute_reply": "2023-08-07T09:45:28.847772Z",
     "shell.execute_reply.started": "2023-08-07T09:45:20.319064Z"
    }
   },
   "outputs": [
    {
     "name": "stdout",
     "output_type": "stream",
     "text": [
      "/storage/stable-diffusion/stable-diffusion-webui/models\n",
      "mkdir: cannot create directory ‘/notebooks/stable-diffusion-webui/models/ControlNet’: File exists\n",
      "/storage/stable-diffusion/stable-diffusion-webui/models/ControlNet\n",
      "--2023-08-07 09:45:21--  https://huggingface.co/thibaud/controlnet-sd21/resolve/main/control_v11p_sd21_canny.safetensors\n",
      "Resolving huggingface.co (huggingface.co)... 18.164.124.11, 18.164.124.47, 18.164.124.99, ...\n",
      "Connecting to huggingface.co (huggingface.co)|18.164.124.11|:443... connected.\n",
      "HTTP request sent, awaiting response... 302 Found\n",
      "Location: https://cdn-lfs.huggingface.co/repos/ed/30/ed30855d27981fc0fee4b0ddb99e3c6558d7255aadddc636a02f3cd2b4edd014/7b2c5d972b6212bb9185e5860e66edd29eeeaeb98d43877688e20c156e196ce4?response-content-disposition=attachment%3B+filename*%3DUTF-8%27%27control_v11p_sd21_canny.safetensors%3B+filename%3D%22control_v11p_sd21_canny.safetensors%22%3B&Expires=1691660702&Policy=eyJTdGF0ZW1lbnQiOlt7IkNvbmRpdGlvbiI6eyJEYXRlTGVzc1RoYW4iOnsiQVdTOkVwb2NoVGltZSI6MTY5MTY2MDcwMn19LCJSZXNvdXJjZSI6Imh0dHBzOi8vY2RuLWxmcy5odWdnaW5nZmFjZS5jby9yZXBvcy9lZC8zMC9lZDMwODU1ZDI3OTgxZmMwZmVlNGIwZGRiOTllM2M2NTU4ZDcyNTVhYWRkZGM2MzZhMDJmM2NkMmI0ZWRkMDE0LzdiMmM1ZDk3MmI2MjEyYmI5MTg1ZTU4NjBlNjZlZGQyOWVlZWFlYjk4ZDQzODc3Njg4ZTIwYzE1NmUxOTZjZTQ%7EcmVzcG9uc2UtY29udGVudC1kaXNwb3NpdGlvbj0qIn1dfQ__&Signature=yz0TrEdf947O2zGalVIEtodr4OkSAaSOMe%7EI9z%7E5whCQxucEadlf4L0n8QIrNgL97g5T6pK4h1EwW-DKhh6h1a3QBn5%7EzouUPEMuZf0a4DqeGv%7EdpjbpWlsWkh--oA2Vr0BFSFlYfRjlhWc7tzm5UfWhPpqRO0bN82UPkdVjG-55191kqvNpJo4nMQxa-0asLjwv0LEYpPGTYB8Ai7lyj3OlPbSJ6zHYIidrEiXKhEwr0D8rxoZhLp-9pW1Ihx1l8EjaY9Y0HeKHXvX4ey%7ECenpDbXK4-t3Y29lVseUelnHWt-ho%7EA10pwzI2yGndjHHPQdorBQxOgazC2025Wq2fA__&Key-Pair-Id=KVTP0A1DKRTAX [following]\n",
      "--2023-08-07 09:45:21--  https://cdn-lfs.huggingface.co/repos/ed/30/ed30855d27981fc0fee4b0ddb99e3c6558d7255aadddc636a02f3cd2b4edd014/7b2c5d972b6212bb9185e5860e66edd29eeeaeb98d43877688e20c156e196ce4?response-content-disposition=attachment%3B+filename*%3DUTF-8%27%27control_v11p_sd21_canny.safetensors%3B+filename%3D%22control_v11p_sd21_canny.safetensors%22%3B&Expires=1691660702&Policy=eyJTdGF0ZW1lbnQiOlt7IkNvbmRpdGlvbiI6eyJEYXRlTGVzc1RoYW4iOnsiQVdTOkVwb2NoVGltZSI6MTY5MTY2MDcwMn19LCJSZXNvdXJjZSI6Imh0dHBzOi8vY2RuLWxmcy5odWdnaW5nZmFjZS5jby9yZXBvcy9lZC8zMC9lZDMwODU1ZDI3OTgxZmMwZmVlNGIwZGRiOTllM2M2NTU4ZDcyNTVhYWRkZGM2MzZhMDJmM2NkMmI0ZWRkMDE0LzdiMmM1ZDk3MmI2MjEyYmI5MTg1ZTU4NjBlNjZlZGQyOWVlZWFlYjk4ZDQzODc3Njg4ZTIwYzE1NmUxOTZjZTQ%7EcmVzcG9uc2UtY29udGVudC1kaXNwb3NpdGlvbj0qIn1dfQ__&Signature=yz0TrEdf947O2zGalVIEtodr4OkSAaSOMe%7EI9z%7E5whCQxucEadlf4L0n8QIrNgL97g5T6pK4h1EwW-DKhh6h1a3QBn5%7EzouUPEMuZf0a4DqeGv%7EdpjbpWlsWkh--oA2Vr0BFSFlYfRjlhWc7tzm5UfWhPpqRO0bN82UPkdVjG-55191kqvNpJo4nMQxa-0asLjwv0LEYpPGTYB8Ai7lyj3OlPbSJ6zHYIidrEiXKhEwr0D8rxoZhLp-9pW1Ihx1l8EjaY9Y0HeKHXvX4ey%7ECenpDbXK4-t3Y29lVseUelnHWt-ho%7EA10pwzI2yGndjHHPQdorBQxOgazC2025Wq2fA__&Key-Pair-Id=KVTP0A1DKRTAX\n",
      "Resolving cdn-lfs.huggingface.co (cdn-lfs.huggingface.co)... 108.139.47.92, 108.139.47.9, 108.139.47.113, ...\n",
      "Connecting to cdn-lfs.huggingface.co (cdn-lfs.huggingface.co)|108.139.47.92|:443... connected.\n",
      "HTTP request sent, awaiting response... 200 OK\n",
      "Length: 728494536 (695M) [binary/octet-stream]\n",
      "Saving to: ‘control_v11p_sd21_canny.safetensors’\n",
      "\n",
      "control_v11p_sd21_c 100%[===================>] 694.75M  95.4MB/s    in 7.2s    \n",
      "\n",
      "2023-08-07 09:45:28 (96.3 MB/s) - ‘control_v11p_sd21_canny.safetensors’ saved [728494536/728494536]\n",
      "\n"
     ]
    }
   ],
   "source": [
    "# Canny\n",
    "%cd /notebooks/stable-diffusion-webui/models/\n",
    "%mkdir /notebooks/stable-diffusion-webui/models/ControlNet\n",
    "%cd /notebooks/stable-diffusion-webui/models/ControlNet\n",
    "!wget https://huggingface.co/thibaud/controlnet-sd21/resolve/main/control_v11p_sd21_canny.safetensors"
   ]
  },
  {
   "cell_type": "code",
   "execution_count": null,
   "id": "c18df9f5-60ff-4a61-9bc9-9a191a449461",
   "metadata": {},
   "outputs": [],
   "source": [
    "# Lineart\n",
    "%cd /notebooks/stable-diffusion-webui/models/ControlNet\n",
    "!wget https://huggingface.co/lllyasviel/ControlNet-v1-1/resolve/main/control_v11p_sd15_lineart.pth"
   ]
  },
  {
   "cell_type": "code",
   "execution_count": null,
   "id": "005cd6ec-897d-4cd1-9e64-09da51a66bd1",
   "metadata": {},
   "outputs": [],
   "source": [
    "# MLSD\n",
    "%cd /notebooks/stable-diffusion-webui/models/ControlNet\n",
    "!wget https://huggingface.co/lllyasviel/ControlNet-v1-1/resolve/main/control_v11p_sd15_mlsd.pth"
   ]
  },
  {
   "cell_type": "code",
   "execution_count": null,
   "id": "73cfd26a-01e0-42eb-98b2-d5a43938eb81",
   "metadata": {},
   "outputs": [],
   "source": [
    "# Normal\n",
    "%cd /notebooks/stable-diffusion-webui/models/ControlNet\n",
    "!wget https://huggingface.co/lllyasviel/ControlNet-v1-1/resolve/main/control_v11p_sd15_normalbae.pth"
   ]
  },
  {
   "cell_type": "code",
   "execution_count": null,
   "id": "af1cd380-8392-4099-a972-7ce67b31d0f3",
   "metadata": {},
   "outputs": [],
   "source": [
    "# Seg\n",
    "%cd /notebooks/stable-diffusion-webui/models/ControlNet\n",
    "!wget https://huggingface.co/lllyasviel/ControlNet-v1-1/resolve/main/control_v11p_sd15_seg.pth"
   ]
  },
  {
   "cell_type": "code",
   "execution_count": 2,
   "id": "4250d4e3-de47-44b4-b97e-bfb22ba0da89",
   "metadata": {
    "execution": {
     "iopub.execute_input": "2023-08-05T21:38:44.855878Z",
     "iopub.status.busy": "2023-08-05T21:38:44.854749Z",
     "iopub.status.idle": "2023-08-05T21:38:56.639634Z",
     "shell.execute_reply": "2023-08-05T21:38:56.638271Z",
     "shell.execute_reply.started": "2023-08-05T21:38:44.855737Z"
    }
   },
   "outputs": [
    {
     "name": "stdout",
     "output_type": "stream",
     "text": [
      "/notebooks/stable-diffusion-webui/extensions/sd-webui-controlnet/models\n",
      "--2023-08-05 21:38:45--  https://huggingface.co/lllyasviel/ControlNet-v1-1/resolve/main/control_v11e_sd15_ip2p.pth\n",
      "Resolving huggingface.co (huggingface.co)... 18.164.124.47, 18.164.124.11, 18.164.124.27, ...\n",
      "Connecting to huggingface.co (huggingface.co)|18.164.124.47|:443... connected.\n",
      "HTTP request sent, awaiting response... 302 Found\n",
      "Location: https://cdn-lfs.huggingface.co/repos/e7/4c/e74c9ddc88b5a293fa8aafeb615d6c61cb3aaa34dc7ce9e25100dfae2b09bf55/a8d77429b111b25ffad4adb4c686a19c73c905d638dd8acb1e0b1d1da300192c?response-content-disposition=attachment%3B+filename*%3DUTF-8%27%27control_v11e_sd15_ip2p.pth%3B+filename%3D%22control_v11e_sd15_ip2p.pth%22%3B&Expires=1691529888&Policy=eyJTdGF0ZW1lbnQiOlt7IkNvbmRpdGlvbiI6eyJEYXRlTGVzc1RoYW4iOnsiQVdTOkVwb2NoVGltZSI6MTY5MTUyOTg4OH19LCJSZXNvdXJjZSI6Imh0dHBzOi8vY2RuLWxmcy5odWdnaW5nZmFjZS5jby9yZXBvcy9lNy80Yy9lNzRjOWRkYzg4YjVhMjkzZmE4YWFmZWI2MTVkNmM2MWNiM2FhYTM0ZGM3Y2U5ZTI1MTAwZGZhZTJiMDliZjU1L2E4ZDc3NDI5YjExMWIyNWZmYWQ0YWRiNGM2ODZhMTljNzNjOTA1ZDYzOGRkOGFjYjFlMGIxZDFkYTMwMDE5MmM%7EcmVzcG9uc2UtY29udGVudC1kaXNwb3NpdGlvbj0qIn1dfQ__&Signature=YduiBT7iNlcMp5zZyxe99vgNYMKJciFiEmrrRPTad24kbXKnm861JW%7EyMNFkgihuz9HJaswUGuF-S4tZaXBFDHbTDMpWGb%7EqWiA9RUJylJSkqzIj8kTqkABMe-6z1fXA0ZKh91jhSFSBejm-dS4aChUxsg7PyS9pACdymikiZs-xADGBgDvhPbDmNQNPpJDXFB%7E4b89OMAH0Cz5UteDpIXxMgJzBinAtZs3NdciPj%7EqGfK81MUwTWQU8QHc592ivANo%7EZkMIaEVA4%7EihU8m18z0a3EzVmcxxkwPpOcTARrDLSfGc7DaOA0r9-9UyvUWlw6ZFJ%7EYGEuw5h63kMMJTmQ__&Key-Pair-Id=KVTP0A1DKRTAX [following]\n",
      "--2023-08-05 21:38:45--  https://cdn-lfs.huggingface.co/repos/e7/4c/e74c9ddc88b5a293fa8aafeb615d6c61cb3aaa34dc7ce9e25100dfae2b09bf55/a8d77429b111b25ffad4adb4c686a19c73c905d638dd8acb1e0b1d1da300192c?response-content-disposition=attachment%3B+filename*%3DUTF-8%27%27control_v11e_sd15_ip2p.pth%3B+filename%3D%22control_v11e_sd15_ip2p.pth%22%3B&Expires=1691529888&Policy=eyJTdGF0ZW1lbnQiOlt7IkNvbmRpdGlvbiI6eyJEYXRlTGVzc1RoYW4iOnsiQVdTOkVwb2NoVGltZSI6MTY5MTUyOTg4OH19LCJSZXNvdXJjZSI6Imh0dHBzOi8vY2RuLWxmcy5odWdnaW5nZmFjZS5jby9yZXBvcy9lNy80Yy9lNzRjOWRkYzg4YjVhMjkzZmE4YWFmZWI2MTVkNmM2MWNiM2FhYTM0ZGM3Y2U5ZTI1MTAwZGZhZTJiMDliZjU1L2E4ZDc3NDI5YjExMWIyNWZmYWQ0YWRiNGM2ODZhMTljNzNjOTA1ZDYzOGRkOGFjYjFlMGIxZDFkYTMwMDE5MmM%7EcmVzcG9uc2UtY29udGVudC1kaXNwb3NpdGlvbj0qIn1dfQ__&Signature=YduiBT7iNlcMp5zZyxe99vgNYMKJciFiEmrrRPTad24kbXKnm861JW%7EyMNFkgihuz9HJaswUGuF-S4tZaXBFDHbTDMpWGb%7EqWiA9RUJylJSkqzIj8kTqkABMe-6z1fXA0ZKh91jhSFSBejm-dS4aChUxsg7PyS9pACdymikiZs-xADGBgDvhPbDmNQNPpJDXFB%7E4b89OMAH0Cz5UteDpIXxMgJzBinAtZs3NdciPj%7EqGfK81MUwTWQU8QHc592ivANo%7EZkMIaEVA4%7EihU8m18z0a3EzVmcxxkwPpOcTARrDLSfGc7DaOA0r9-9UyvUWlw6ZFJ%7EYGEuw5h63kMMJTmQ__&Key-Pair-Id=KVTP0A1DKRTAX\n",
      "Resolving cdn-lfs.huggingface.co (cdn-lfs.huggingface.co)... 108.139.29.114, 108.139.29.77, 108.139.29.117, ...\n",
      "Connecting to cdn-lfs.huggingface.co (cdn-lfs.huggingface.co)|108.139.29.114|:443... connected.\n",
      "HTTP request sent, awaiting response... 200 OK\n",
      "Length: 1445234339 (1.3G) [binary/octet-stream]\n",
      "Saving to: ‘control_v11e_sd15_ip2p.pth’\n",
      "\n",
      "control_v11e_sd15_i 100%[===================>]   1.35G   222MB/s    in 5.9s    \n",
      "\n",
      "2023-08-05 21:38:56 (233 MB/s) - ‘control_v11e_sd15_ip2p.pth’ saved [1445234339/1445234339]\n",
      "\n"
     ]
    }
   ],
   "source": [
    "# ip2p\n",
    "%cd /notebooks/stable-diffusion-webui/models/ControlNet\n",
    "!wget https://huggingface.co/lllyasviel/ControlNet-v1-1/resolve/main/control_v11e_sd15_ip2p.pth"
   ]
  },
  {
   "cell_type": "code",
   "execution_count": null,
   "id": "4f256f8c-3908-4251-863e-089931d9e2d7",
   "metadata": {},
   "outputs": [],
   "source": [
    "# Shuffle\n",
    "%cd /notebooks/stable-diffusion-webui/models/ControlNet\n",
    "!wget https://huggingface.co/lllyasviel/ControlNet-v1-1/resolve/main/control_v11e_sd15_shuffle.pth"
   ]
  },
  {
   "cell_type": "code",
   "execution_count": null,
   "id": "417b6702-8f06-448e-90e5-a6f701cfc83a",
   "metadata": {},
   "outputs": [],
   "source": [
    "# Inpaint\n",
    "%cd /notebooks/stable-diffusion-webui/models/ControlNet\n",
    "!wget https://huggingface.co/lllyasviel/ControlNet-v1-1/resolve/main/control_v11p_sd15_inpaint.pth"
   ]
  },
  {
   "cell_type": "code",
   "execution_count": null,
   "id": "bf45d02f-c47a-41af-9432-d969f48baedd",
   "metadata": {},
   "outputs": [],
   "source": [
    "# Softedge\n",
    "%cd /notebooks/stable-diffusion-webui/models/ControlNet\n",
    "!wget https://huggingface.co/lllyasviel/ControlNet-v1-1/resolve/main/control_v11p_sd15_softedge.pth"
   ]
  },
  {
   "cell_type": "code",
   "execution_count": null,
   "id": "b5ec2337-cd82-4544-a32d-4a8be009ac7f",
   "metadata": {},
   "outputs": [],
   "source": [
    "# Lineart_Anime\n",
    "%cd /notebooks/stable-diffusion-webui/models/ControlNet\n",
    "!wget https://huggingface.co/lllyasviel/ControlNet-v1-1/resolve/main/control_v11p_sd15s2_lineart_anime.pth"
   ]
  },
  {
   "cell_type": "code",
   "execution_count": null,
   "id": "96da73c0-b607-4353-b8b0-28ad20877583",
   "metadata": {},
   "outputs": [],
   "source": [
    "# Tile\n",
    "%cd /notebooks/stable-diffusion-webui/models/ControlNet\n",
    "!wget https://huggingface.co/lllyasviel/ControlNet-v1-1/resolve/main/control_v11f1e_sd15_tile.pth"
   ]
  },
  {
   "cell_type": "code",
   "execution_count": null,
   "id": "e5f14b12-1f7c-495b-8ff1-43e1b3e2f2c2",
   "metadata": {},
   "outputs": [],
   "source": [
    "# Depth\n",
    "%cd /notebooks/stable-diffusion-webui/models/ControlNet\n",
    "!wget https://huggingface.co/thibaud/controlnet-sd21/resolve/main/control_v11p_sd21_depth.safetensors"
   ]
  },
  {
   "cell_type": "code",
   "execution_count": null,
   "id": "c154b34c-b03d-4c69-90f5-fa5444bfe2e7",
   "metadata": {},
   "outputs": [],
   "source": [
    "# HED\n",
    "%cd /notebooks/stable-diffusion-webui/models/ControlNet\n",
    "!wget https://huggingface.co/thibaud/controlnet-sd21/resolve/main/control_v11p_sd21_hed.safetensors"
   ]
  },
  {
   "cell_type": "code",
   "execution_count": 1,
   "id": "e9a49dca-c7ad-4505-80df-29ca25c2c0ca",
   "metadata": {
    "execution": {
     "iopub.execute_input": "2023-08-05T21:29:31.880603Z",
     "iopub.status.busy": "2023-08-05T21:29:31.880120Z",
     "iopub.status.idle": "2023-08-05T21:29:39.791014Z",
     "shell.execute_reply": "2023-08-05T21:29:39.789565Z",
     "shell.execute_reply.started": "2023-08-05T21:29:31.880569Z"
    }
   },
   "outputs": [
    {
     "name": "stdout",
     "output_type": "stream",
     "text": [
      "/notebooks/stable-diffusion-webui/extensions/sd-webui-controlnet/models\n",
      "--2023-08-05 21:29:32--  https://huggingface.co/lllyasviel/ControlNet-v1-1/resolve/main/control_v11p_sd15_openpose.pth\n",
      "Resolving huggingface.co (huggingface.co)... 18.164.124.99, 18.164.124.47, 18.164.124.27, ...\n",
      "Connecting to huggingface.co (huggingface.co)|18.164.124.99|:443... connected.\n",
      "HTTP request sent, awaiting response... 302 Found\n",
      "Location: https://cdn-lfs.huggingface.co/repos/e7/4c/e74c9ddc88b5a293fa8aafeb615d6c61cb3aaa34dc7ce9e25100dfae2b09bf55/db97becd92cd19aff71352a60e93c2508decba3dee64f01f686727b9b406a9dd?response-content-disposition=attachment%3B+filename*%3DUTF-8%27%27control_v11p_sd15_openpose.pth%3B+filename%3D%22control_v11p_sd15_openpose.pth%22%3B&Expires=1691528156&Policy=eyJTdGF0ZW1lbnQiOlt7IkNvbmRpdGlvbiI6eyJEYXRlTGVzc1RoYW4iOnsiQVdTOkVwb2NoVGltZSI6MTY5MTUyODE1Nn19LCJSZXNvdXJjZSI6Imh0dHBzOi8vY2RuLWxmcy5odWdnaW5nZmFjZS5jby9yZXBvcy9lNy80Yy9lNzRjOWRkYzg4YjVhMjkzZmE4YWFmZWI2MTVkNmM2MWNiM2FhYTM0ZGM3Y2U5ZTI1MTAwZGZhZTJiMDliZjU1L2RiOTdiZWNkOTJjZDE5YWZmNzEzNTJhNjBlOTNjMjUwOGRlY2JhM2RlZTY0ZjAxZjY4NjcyN2I5YjQwNmE5ZGQ%7EcmVzcG9uc2UtY29udGVudC1kaXNwb3NpdGlvbj0qIn1dfQ__&Signature=mhxiyQ30GuUiT2z9858o4oC6YIKZ2vkVbUZXV40BFCXexI20Gj-3R2UvekMSFkcK2A-V2wy5ZzdA3CidqlbfIAbSE4rwXm1473hFx0kSAdeN9Ix9NgW6ubcQSePy0gc9QR0J6fwUQwci9UjLVCEiCPPQ3Mb5vAUfV2qCkkr7GJPamjryMNu%7EPFi5FpcsHZqVOgPalJxsGV9AyGeUlWMpHC5bU5uHePr6c2s6GsS6qLGPb6Ay4yyOUZnWJ9OpcCakTPYW4KygXpFLTB25JiTZvcZvETDfQBd6HNHvakEGppVZppYqOeAcfZN7yJ4Y4-3WVKWCFEnITVlflnsfKIGq9A__&Key-Pair-Id=KVTP0A1DKRTAX [following]\n",
      "--2023-08-05 21:29:32--  https://cdn-lfs.huggingface.co/repos/e7/4c/e74c9ddc88b5a293fa8aafeb615d6c61cb3aaa34dc7ce9e25100dfae2b09bf55/db97becd92cd19aff71352a60e93c2508decba3dee64f01f686727b9b406a9dd?response-content-disposition=attachment%3B+filename*%3DUTF-8%27%27control_v11p_sd15_openpose.pth%3B+filename%3D%22control_v11p_sd15_openpose.pth%22%3B&Expires=1691528156&Policy=eyJTdGF0ZW1lbnQiOlt7IkNvbmRpdGlvbiI6eyJEYXRlTGVzc1RoYW4iOnsiQVdTOkVwb2NoVGltZSI6MTY5MTUyODE1Nn19LCJSZXNvdXJjZSI6Imh0dHBzOi8vY2RuLWxmcy5odWdnaW5nZmFjZS5jby9yZXBvcy9lNy80Yy9lNzRjOWRkYzg4YjVhMjkzZmE4YWFmZWI2MTVkNmM2MWNiM2FhYTM0ZGM3Y2U5ZTI1MTAwZGZhZTJiMDliZjU1L2RiOTdiZWNkOTJjZDE5YWZmNzEzNTJhNjBlOTNjMjUwOGRlY2JhM2RlZTY0ZjAxZjY4NjcyN2I5YjQwNmE5ZGQ%7EcmVzcG9uc2UtY29udGVudC1kaXNwb3NpdGlvbj0qIn1dfQ__&Signature=mhxiyQ30GuUiT2z9858o4oC6YIKZ2vkVbUZXV40BFCXexI20Gj-3R2UvekMSFkcK2A-V2wy5ZzdA3CidqlbfIAbSE4rwXm1473hFx0kSAdeN9Ix9NgW6ubcQSePy0gc9QR0J6fwUQwci9UjLVCEiCPPQ3Mb5vAUfV2qCkkr7GJPamjryMNu%7EPFi5FpcsHZqVOgPalJxsGV9AyGeUlWMpHC5bU5uHePr6c2s6GsS6qLGPb6Ay4yyOUZnWJ9OpcCakTPYW4KygXpFLTB25JiTZvcZvETDfQBd6HNHvakEGppVZppYqOeAcfZN7yJ4Y4-3WVKWCFEnITVlflnsfKIGq9A__&Key-Pair-Id=KVTP0A1DKRTAX\n",
      "Resolving cdn-lfs.huggingface.co (cdn-lfs.huggingface.co)... 108.139.29.114, 108.139.29.77, 108.139.29.38, ...\n",
      "Connecting to cdn-lfs.huggingface.co (cdn-lfs.huggingface.co)|108.139.29.114|:443... connected.\n",
      "HTTP request sent, awaiting response... 200 OK\n",
      "Length: 1445235707 (1.3G) [binary/octet-stream]\n",
      "Saving to: ‘control_v11p_sd15_openpose.pth’\n",
      "\n",
      "control_v11p_sd15_o 100%[===================>]   1.35G   242MB/s    in 7.1s    \n",
      "\n",
      "2023-08-05 21:29:39 (195 MB/s) - ‘control_v11p_sd15_openpose.pth’ saved [1445235707/1445235707]\n",
      "\n"
     ]
    }
   ],
   "source": [
    "# OpenPose\n",
    "%cd /notebooks/stable-diffusion-webui/models/ControlNet\n",
    "!wget https://huggingface.co/lllyasviel/ControlNet-v1-1/resolve/main/control_v11p_sd15_openpose.pth"
   ]
  },
  {
   "cell_type": "code",
   "execution_count": null,
   "id": "ce44c95a-7a66-413a-85d4-b68731f9dc95",
   "metadata": {},
   "outputs": [],
   "source": [
    "# Scribble\n",
    "%cd /notebooks/stable-diffusion-webui/models/ControlNet\n",
    "!wget https://huggingface.co/lllyasviel/ControlNet-v1-1/resolve/main/control_v11p_sd15_scribble.pth"
   ]
  }
 ],
 "metadata": {
  "kernelspec": {
   "display_name": "Python 3 (ipykernel)",
   "language": "python",
   "name": "python3"
  },
  "language_info": {
   "codemirror_mode": {
    "name": "ipython",
    "version": 3
   },
   "file_extension": ".py",
   "mimetype": "text/x-python",
   "name": "python",
   "nbconvert_exporter": "python",
   "pygments_lexer": "ipython3",
   "version": "3.9.16"
  }
 },
 "nbformat": 4,
 "nbformat_minor": 5
}
