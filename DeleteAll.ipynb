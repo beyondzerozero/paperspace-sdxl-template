{
 "cells": [
  {
   "cell_type": "code",
   "execution_count": 3,
   "id": "b430f304-4470-4383-a06d-49912c8fbbfc",
   "metadata": {
    "execution": {
     "iopub.execute_input": "2023-08-07T09:49:26.081758Z",
     "iopub.status.busy": "2023-08-07T09:49:26.081191Z",
     "iopub.status.idle": "2023-08-07T09:49:26.090562Z",
     "shell.execute_reply": "2023-08-07T09:49:26.089958Z",
     "shell.execute_reply.started": "2023-08-07T09:49:26.081732Z"
    }
   },
   "outputs": [],
   "source": [
    "# ControlNet 모델 제거 \n",
    "import shutil\n",
    "import os\n",
    "shutil.rmtree('/notebooks/stable-diffusion-webui/models/ControlNet')\n",
    "os.mkdir('/notebooks/stable-diffusion-webui/models/ControlNet')"
   ]
  },
  {
   "cell_type": "code",
   "execution_count": 5,
   "id": "fe1ee04c-104f-41e4-a457-c90fd1a71478",
   "metadata": {},
   "outputs": [],
   "source": [
    "# 모델 삭제 \n",
    "import shutil\n",
    "import os\n",
    "shutil.rmtree('/notebooks/stable-diffusion-webui/models/Stable-diffusion')\n",
    "os.mkdir('/notebooks/stable-diffusion-webui/models/Stable-diffusion')"
   ]
  },
  {
   "cell_type": "code",
   "execution_count": 4,
   "id": "f630e4f1-f432-4d4a-b8ae-17660116c22d",
   "metadata": {
    "execution": {
     "iopub.execute_input": "2023-08-07T09:49:49.594017Z",
     "iopub.status.busy": "2023-08-07T09:49:49.593526Z",
     "iopub.status.idle": "2023-08-07T09:49:49.603237Z",
     "shell.execute_reply": "2023-08-07T09:49:49.602710Z",
     "shell.execute_reply.started": "2023-08-07T09:49:49.593995Z"
    }
   },
   "outputs": [],
   "source": [
    "# LoRA 모델 제거\n",
    "import shutil\n",
    "import os\n",
    "shutil.rmtree('/notebooks/stable-diffusion-webui/models/Lora')\n",
    "os.mkdir('/notebooks/stable-diffusion-webui/models/Lora')"
   ]
  },
  {
   "cell_type": "code",
   "execution_count": 7,
   "id": "a634df65-3649-4b20-815d-cacb32d6f8fe",
   "metadata": {},
   "outputs": [],
   "source": [
    "# VAE 모델 제거\n",
    "import shutil\n",
    "import os\n",
    "shutil.rmtree('/notebooks/stable-diffusion-webui/models/VAE')\n",
    "os.mkdir('/notebooks/stable-diffusion-webui/models/VAE')"
   ]
  },
  {
   "cell_type": "code",
   "execution_count": null,
   "id": "99856a8d-549f-4539-873f-e6a9a74cea59",
   "metadata": {},
   "outputs": [],
   "source": []
  }
 ],
 "metadata": {
  "kernelspec": {
   "display_name": "Python 3 (ipykernel)",
   "language": "python",
   "name": "python3"
  },
  "language_info": {
   "codemirror_mode": {
    "name": "ipython",
    "version": 3
   },
   "file_extension": ".py",
   "mimetype": "text/x-python",
   "name": "python",
   "nbconvert_exporter": "python",
   "pygments_lexer": "ipython3",
   "version": "3.9.16"
  }
 },
 "nbformat": 4,
 "nbformat_minor": 5
}
